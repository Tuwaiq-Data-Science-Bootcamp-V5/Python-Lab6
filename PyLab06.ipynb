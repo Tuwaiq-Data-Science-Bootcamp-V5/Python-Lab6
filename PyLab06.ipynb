{
  "nbformat": 4,
  "nbformat_minor": 0,
  "metadata": {
    "colab": {
      "provenance": []
    },
    "kernelspec": {
      "name": "python3",
      "display_name": "Python 3"
    },
    "language_info": {
      "name": "python"
    }
  },
  "cells": [
    {
      "cell_type": "code",
      "execution_count": 1,
      "metadata": {
        "id": "2Q2OCR5qdWCJ"
      },
      "outputs": [],
      "source": [
        "myList= [5, 4, 17, 19, 30, 2, 7, 10, 45]"
      ]
    },
    {
      "cell_type": "code",
      "source": [
        "print(sum(myList))"
      ],
      "metadata": {
        "colab": {
          "base_uri": "https://localhost:8080/"
        },
        "id": "Fi_yLLsldp6s",
        "outputId": "a4518f2a-7c7d-438c-93e2-8d3dadc8ecc7"
      },
      "execution_count": 3,
      "outputs": [
        {
          "output_type": "stream",
          "name": "stdout",
          "text": [
            "139\n"
          ]
        }
      ]
    },
    {
      "cell_type": "code",
      "source": [
        "print(max(myList))"
      ],
      "metadata": {
        "colab": {
          "base_uri": "https://localhost:8080/"
        },
        "id": "Z6mbYmAWez06",
        "outputId": "8dc15392-59c2-45a9-c991-7324c7e0bc75"
      },
      "execution_count": 4,
      "outputs": [
        {
          "output_type": "stream",
          "name": "stdout",
          "text": [
            "45\n"
          ]
        }
      ]
    },
    {
      "cell_type": "code",
      "source": [
        "newList = [i for i in myList if i % 2 == 0 ]\n",
        "\n",
        "print(newList)"
      ],
      "metadata": {
        "colab": {
          "base_uri": "https://localhost:8080/"
        },
        "id": "RgJsZZtpe9MU",
        "outputId": "5b11f93d-c709-455c-ab61-b27c03766df4"
      },
      "execution_count": 17,
      "outputs": [
        {
          "output_type": "stream",
          "name": "stdout",
          "text": [
            "[4, 30, 2, 10]\n"
          ]
        }
      ]
    },
    {
      "cell_type": "code",
      "source": [
        "slicedList= newList[0:5]\n",
        "print(slicedList)"
      ],
      "metadata": {
        "colab": {
          "base_uri": "https://localhost:8080/"
        },
        "id": "gHdoGtNVk0AS",
        "outputId": "9e53f394-9cef-4e3f-d37c-4578de749ebd"
      },
      "execution_count": 19,
      "outputs": [
        {
          "output_type": "stream",
          "name": "stdout",
          "text": [
            "[4, 30, 2, 10]\n"
          ]
        }
      ]
    }
  ]
}