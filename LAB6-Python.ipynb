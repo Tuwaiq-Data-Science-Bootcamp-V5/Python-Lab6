{
 "cells": [
  {
   "cell_type": "markdown",
   "id": "9d193613",
   "metadata": {},
   "source": [
    "Lists\n",
    "\n",
    "Given the following list : [5, 4, 17, 19, 30, 2, 7, 10, 45]\n",
    "\n",
    "- Q1: Write a Python program to sum all the items in the list.\n",
    "- Q2: Write a Python program to get the largest number from the list.\n",
    "- Q3: Use list comprehension, create a new list from the above list containing only even numbers.\n",
    "- Q4: Use list slicing to get a new list from the previous list starting from the start to the 5th element in the list.\n"
   ]
  },
  {
   "cell_type": "markdown",
   "id": "fa60bce4",
   "metadata": {},
   "source": [
    "Q1: Write a Python program to sum all the items in the list."
   ]
  },
  {
   "cell_type": "code",
   "execution_count": 4,
   "id": "8a1bc538",
   "metadata": {},
   "outputs": [
    {
     "name": "stdout",
     "output_type": "stream",
     "text": [
      "[5, 4, 17, 19, 30, 2, 7, 10, 45]\n"
     ]
    }
   ],
   "source": [
    "myList=[5,4,17,19,30,2,7,10,45]\n",
    "print(myList)"
   ]
  },
  {
   "cell_type": "code",
   "execution_count": 6,
   "id": "39a5f22b",
   "metadata": {},
   "outputs": [
    {
     "name": "stdout",
     "output_type": "stream",
     "text": [
      "139\n"
     ]
    }
   ],
   "source": [
    "sumLst=sum(myList)\n",
    "\n",
    "print(sumLst)"
   ]
  },
  {
   "cell_type": "markdown",
   "id": "d34dd3b1",
   "metadata": {},
   "source": [
    "Q2: Write a Python program to get the largest number from the list."
   ]
  },
  {
   "cell_type": "code",
   "execution_count": 8,
   "id": "b2021cbb",
   "metadata": {},
   "outputs": [
    {
     "name": "stdout",
     "output_type": "stream",
     "text": [
      "The largest number in the list is:  45\n"
     ]
    }
   ],
   "source": [
    "print(\"The largest number in the list is: \", max(myList))"
   ]
  },
  {
   "cell_type": "markdown",
   "id": "427b14f4",
   "metadata": {},
   "source": [
    "Q3: Use list comprehension, create a new list from the above list containing only even numbers."
   ]
  },
  {
   "cell_type": "code",
   "execution_count": 11,
   "id": "33973171",
   "metadata": {},
   "outputs": [
    {
     "name": "stdout",
     "output_type": "stream",
     "text": [
      "[4, 30, 2, 10]\n"
     ]
    }
   ],
   "source": [
    "newList = [i for i in myList if i % 2 == 0]\n",
    "\n",
    "print(newList)"
   ]
  },
  {
   "cell_type": "markdown",
   "id": "14f08148",
   "metadata": {},
   "source": [
    "Q4: Use list slicing to get a new list from the previous list starting from the start to the 5th element in the list."
   ]
  },
  {
   "cell_type": "code",
   "execution_count": 14,
   "id": "7ee6f0d7",
   "metadata": {},
   "outputs": [
    {
     "name": "stdout",
     "output_type": "stream",
     "text": [
      "[5, 4, 17, 19, 30]\n"
     ]
    }
   ],
   "source": [
    "newList1=myList[0:5]\n",
    "\n",
    "print(newList1)"
   ]
  }
 ],
 "metadata": {
  "kernelspec": {
   "display_name": "Python 3 (ipykernel)",
   "language": "python",
   "name": "python3"
  },
  "language_info": {
   "codemirror_mode": {
    "name": "ipython",
    "version": 3
   },
   "file_extension": ".py",
   "mimetype": "text/x-python",
   "name": "python",
   "nbconvert_exporter": "python",
   "pygments_lexer": "ipython3",
   "version": "3.11.5"
  }
 },
 "nbformat": 4,
 "nbformat_minor": 5
}
