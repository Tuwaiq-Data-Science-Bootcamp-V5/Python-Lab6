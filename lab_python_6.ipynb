{
 "cells": [
  {
   "cell_type": "code",
   "execution_count": 1,
   "id": "0f6d89fb-70da-4489-aeeb-903143304849",
   "metadata": {},
   "outputs": [
    {
     "name": "stdout",
     "output_type": "stream",
     "text": [
      "sum all : 139\n",
      "largest number: 45\n"
     ]
    }
   ],
   "source": [
    "list = [5, 4, 17, 19, 30, 2, 7, 10, 45]\n",
    "print(\"sum all :\",sum(list))\n",
    "print(\"largest number:\",max(list))"
   ]
  },
  {
   "cell_type": "code",
   "execution_count": 2,
   "id": "d35d882c-1a30-47ba-af22-7293afeea604",
   "metadata": {},
   "outputs": [
    {
     "name": "stdout",
     "output_type": "stream",
     "text": [
      "comprehension list: [4, 30, 2, 10]\n",
      "slicing list: [5, 4, 17, 19, 30]\n"
     ]
    }
   ],
   "source": [
    "newlist =[i for i in list  if i % 2== 0 ]\n",
    "print(\"comprehension list:\",newlist)\n",
    "print(\"slicing list:\",list[:5])"
   ]
  },
  {
   "cell_type": "code",
   "execution_count": null,
   "id": "ba1dca2c-7518-47d4-9cc5-78cf52aa1bc4",
   "metadata": {},
   "outputs": [],
   "source": []
  }
 ],
 "metadata": {
  "kernelspec": {
   "display_name": "Python 3 (ipykernel)",
   "language": "python",
   "name": "python3"
  },
  "language_info": {
   "codemirror_mode": {
    "name": "ipython",
    "version": 3
   },
   "file_extension": ".py",
   "mimetype": "text/x-python",
   "name": "python",
   "nbconvert_exporter": "python",
   "pygments_lexer": "ipython3",
   "version": "3.12.0"
  }
 },
 "nbformat": 4,
 "nbformat_minor": 5
}
