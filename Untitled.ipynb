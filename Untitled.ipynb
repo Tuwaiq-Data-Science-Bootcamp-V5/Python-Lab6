{
 "cells": [
  {
   "cell_type": "code",
   "execution_count": 2,
   "id": "2da466bd-3dbb-450a-918e-bbef8edd1b24",
   "metadata": {},
   "outputs": [
    {
     "name": "stdout",
     "output_type": "stream",
     "text": [
      "139\n",
      "45\n"
     ]
    }
   ],
   "source": [
    "list = [5, 4, 17, 19, 30, 2, 7, 10, 45]\n",
    "\n",
    "print(sum(list))\n",
    "print(max(list))"
   ]
  },
  {
   "cell_type": "code",
   "execution_count": 4,
   "id": "680f76a0-ef0f-4990-8a1a-fa60e98082d4",
   "metadata": {},
   "outputs": [
    {
     "name": "stdout",
     "output_type": "stream",
     "text": [
      "[4, 30, 2, 10]\n"
     ]
    }
   ],
   "source": [
    "even_numbers = [x for x in list if x%2==0]\n",
    "print(even_numbers)"
   ]
  },
  {
   "cell_type": "code",
   "execution_count": 5,
   "id": "5ecdfe04-ccb2-4a54-8500-d31934361ef8",
   "metadata": {},
   "outputs": [
    {
     "name": "stdout",
     "output_type": "stream",
     "text": [
      "[30, 2, 7, 10, 45]\n"
     ]
    }
   ],
   "source": [
    "\n",
    "list2 = list[4 : ]\n",
    "\n",
    "print(list2)"
   ]
  },
  {
   "cell_type": "code",
   "execution_count": null,
   "id": "6571bcf5-fa1d-4ce4-8225-b9972f0a99eb",
   "metadata": {},
   "outputs": [],
   "source": []
  }
 ],
 "metadata": {
  "kernelspec": {
   "display_name": "Python 3 (ipykernel)",
   "language": "python",
   "name": "python3"
  },
  "language_info": {
   "codemirror_mode": {
    "name": "ipython",
    "version": 3
   },
   "file_extension": ".py",
   "mimetype": "text/x-python",
   "name": "python",
   "nbconvert_exporter": "python",
   "pygments_lexer": "ipython3",
   "version": "3.9.13"
  }
 },
 "nbformat": 4,
 "nbformat_minor": 5
}
