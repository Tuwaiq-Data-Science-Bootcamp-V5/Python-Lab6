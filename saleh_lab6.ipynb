{
 "cells": [
  {
   "cell_type": "code",
   "execution_count": 1,
   "id": "f065b641-da72-4ddc-89c7-e1efe901fcbd",
   "metadata": {},
   "outputs": [
    {
     "name": "stdout",
     "output_type": "stream",
     "text": [
      "the sum of the list is: 139\n",
      "the largest number is: 45\n"
     ]
    }
   ],
   "source": [
    "lst=[5, 4, 17, 19, 30, 2, 7, 10, 45]\n",
    "print(f'the sum of the list is: {sum(lst)}')\n",
    "print(f'the largest number is: {max(lst)}')"
   ]
  },
  {
   "cell_type": "code",
   "execution_count": 2,
   "id": "4b125d19-b7e1-4df7-85bc-e0bdb519b59e",
   "metadata": {},
   "outputs": [
    {
     "name": "stdout",
     "output_type": "stream",
     "text": [
      "[4, 30, 2, 10]\n"
     ]
    }
   ],
   "source": [
    "q3=[i for i in lst if i%2==0]\n",
    "print(q3)"
   ]
  },
  {
   "cell_type": "code",
   "execution_count": 3,
   "id": "0f677b4f-8b12-4e8a-a44e-3bfc31eea7e6",
   "metadata": {},
   "outputs": [
    {
     "name": "stdout",
     "output_type": "stream",
     "text": [
      "[5, 4, 17, 19, 30]\n"
     ]
    }
   ],
   "source": [
    "q4=lst[0:5]\n",
    "print(q4)"
   ]
  }
 ],
 "metadata": {
  "kernelspec": {
   "display_name": "Python 3 (ipykernel)",
   "language": "python",
   "name": "python3"
  },
  "language_info": {
   "codemirror_mode": {
    "name": "ipython",
    "version": 3
   },
   "file_extension": ".py",
   "mimetype": "text/x-python",
   "name": "python",
   "nbconvert_exporter": "python",
   "pygments_lexer": "ipython3",
   "version": "3.10.11"
  }
 },
 "nbformat": 4,
 "nbformat_minor": 5
}
