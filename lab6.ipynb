{
 "cells": [
  {
   "cell_type": "code",
   "execution_count": 1,
   "id": "f83b7870",
   "metadata": {},
   "outputs": [
    {
     "name": "stdout",
     "output_type": "stream",
     "text": [
      "139\n"
     ]
    }
   ],
   "source": [
    "list1 = [5,4,17,19,30,2,7,10,45]\n",
    "\n",
    "def sum_list(list1):\n",
    "    sum=0\n",
    "    for i in list1:\n",
    "        sum+=i \n",
    "    return sum \n",
    "print(sum_list(list1))"
   ]
  },
  {
   "cell_type": "code",
   "execution_count": 2,
   "id": "93ae8280",
   "metadata": {},
   "outputs": [
    {
     "name": "stdout",
     "output_type": "stream",
     "text": [
      "45\n"
     ]
    }
   ],
   "source": [
    "def largest_number (list1): \n",
    "    largest = list1[0]\n",
    "    for i in list1:\n",
    "        if i > largest:\n",
    "            largest=i\n",
    "    return largest \n",
    "\n",
    "print(largest_number(list1))"
   ]
  },
  {
   "cell_type": "code",
   "execution_count": 3,
   "id": "681b9f0e",
   "metadata": {},
   "outputs": [
    {
     "ename": "SyntaxError",
     "evalue": "invalid syntax (1136359515.py, line 4)",
     "output_type": "error",
     "traceback": [
      "\u001b[1;36m  Cell \u001b[1;32mIn[3], line 4\u001b[1;36m\u001b[0m\n\u001b[1;33m    even_numbr[i for i in list1 if i % 2 == 0]\u001b[0m\n\u001b[1;37m                 ^\u001b[0m\n\u001b[1;31mSyntaxError\u001b[0m\u001b[1;31m:\u001b[0m invalid syntax\n"
     ]
    }
   ],
   "source": [
    "list1 = [5,4,17,19,30,2,7,10,45]\n",
    "\n",
    "def even_numbers(list1):\n",
    "    even_numbr[i for i in list1 if i % 2 == 0]\n",
    "    return even_numbers \n",
    "print(even_numbers(list1))"
   ]
  },
  {
   "cell_type": "code",
   "execution_count": 4,
   "id": "23a058ef",
   "metadata": {},
   "outputs": [
    {
     "name": "stdout",
     "output_type": "stream",
     "text": [
      "[4, 30, 2, 10]\n"
     ]
    }
   ],
   "source": [
    "list1 = [5, 4, 17, 19, 30, 2, 7, 10, 45]\n",
    "\n",
    "def even_numbers(list1):\n",
    "  even_numbers = [i for i in list1 if i % 2 == 0]\n",
    "  return even_numbers\n",
    "\n",
    "print(even_numbers(list1))\n"
   ]
  },
  {
   "cell_type": "code",
   "execution_count": 5,
   "id": "6a031f9c",
   "metadata": {},
   "outputs": [
    {
     "name": "stdout",
     "output_type": "stream",
     "text": [
      "[4, 30, 2, 10]\n"
     ]
    }
   ],
   "source": [
    "def list_slicing(list1):\n",
    "    new_list=list1[:5]\n",
    "    return new_list\n",
    "print(list_slicing(even_numbers(list1)))"
   ]
  },
  {
   "cell_type": "code",
   "execution_count": 6,
   "id": "03655233",
   "metadata": {},
   "outputs": [
    {
     "name": "stdout",
     "output_type": "stream",
     "text": [
      "[30, 2, 7, 10, 45]\n"
     ]
    }
   ],
   "source": [
    "list_2 = list1[4:]\n",
    "print (list_2)\n"
   ]
  },
  {
   "cell_type": "code",
   "execution_count": null,
   "id": "a70b7bc5",
   "metadata": {},
   "outputs": [],
   "source": []
  }
 ],
 "metadata": {
  "kernelspec": {
   "display_name": "Python 3 (ipykernel)",
   "language": "python",
   "name": "python3"
  },
  "language_info": {
   "codemirror_mode": {
    "name": "ipython",
    "version": 3
   },
   "file_extension": ".py",
   "mimetype": "text/x-python",
   "name": "python",
   "nbconvert_exporter": "python",
   "pygments_lexer": "ipython3",
   "version": "3.11.5"
  }
 },
 "nbformat": 4,
 "nbformat_minor": 5
}
